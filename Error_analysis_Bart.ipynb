{
  "nbformat": 4,
  "nbformat_minor": 0,
  "metadata": {
    "colab": {
      "name": "Error_analysis_Bart.ipynb",
      "provenance": [],
      "machine_shape": "hm"
    },
    "kernelspec": {
      "name": "python3",
      "display_name": "Python 3"
    },
    "language_info": {
      "name": "python"
    },
    "accelerator": "GPU"
  },
  "cells": [
    {
      "cell_type": "code",
      "metadata": {
        "id": "hGUkMDujkUtz"
      },
      "source": [
        "!git clone https://github.com/Senyu-T/unifiedqa"
      ],
      "execution_count": null,
      "outputs": []
    },
    {
      "cell_type": "code",
      "metadata": {
        "id": "ZNlgBI9fGn4X"
      },
      "source": [
        "cd unifiedqa/bart"
      ],
      "execution_count": null,
      "outputs": []
    },
    {
      "cell_type": "code",
      "metadata": {
        "id": "AeGQOSHLk9Pw"
      },
      "source": [
        "!chmod +x download_data.sh; ./download_data.sh"
      ],
      "execution_count": null,
      "outputs": []
    },
    {
      "cell_type": "code",
      "metadata": {
        "id": "E-WIxDi3eFfM"
      },
      "source": [
        "cd data/natural_questions_with_dpr_para/"
      ],
      "execution_count": null,
      "outputs": []
    },
    {
      "cell_type": "code",
      "metadata": {
        "id": "fa26s602l7X9"
      },
      "source": [
        "# read dev file, parse into context / question / answer for further data analysis\n",
        "infer_answers = []\n",
        "infer_questions = []\n",
        "infer_contexts = []\n",
        "with open('dev.tsv', 'rb') as inference_in:\n",
        "    lines = inference_in.readlines()\n",
        "    for i in range(len(lines)):\n",
        "        sep = str(lines[i]).split('\\\\n') \n",
        "        infer_questions.append(sep[0][2:-1])\n",
        "        infer_answers.append((sep[1].split('\\\\t')[-1]).lower())\n",
        "        infer_contexts.append(sep[1].split('\\\\t')[0])"
      ],
      "execution_count": 16,
      "outputs": []
    },
    {
      "cell_type": "code",
      "metadata": {
        "id": "AdEJL8evxDtg"
      },
      "source": [
        "# check how many short answers are not extracted from the context\n",
        "not_in_dpr_idx = []\n",
        "for i in range(len(infer_answers)):\n",
        "  if not infer_answers[i] in infer_contexts[i]:\n",
        "    not_in_dpr_idx.append(i)"
      ],
      "execution_count": 17,
      "outputs": []
    },
    {
      "cell_type": "code",
      "metadata": {
        "id": "KuzI8Be_dOQF"
      },
      "source": [
        "from google.colab import drive\n",
        "drive.mount('/content/drive')"
      ],
      "execution_count": null,
      "outputs": []
    },
    {
      "cell_type": "code",
      "metadata": {
        "id": "Yy6CwwTBdgMq"
      },
      "source": [
        "cd /content/drive/MyDrive/out/finetune_bart_base_2_epoch/"
      ],
      "execution_count": null,
      "outputs": []
    },
    {
      "cell_type": "code",
      "metadata": {
        "id": "RRFA3TwomdmZ"
      },
      "source": [
        "# read the prediction file output by model\n",
        "import json\n",
        "with open(\"predictions.json\", 'rb') as m_out:\n",
        "    pred = json.load(m_out)"
      ],
      "execution_count": 8,
      "outputs": []
    },
    {
      "cell_type": "code",
      "metadata": {
        "colab": {
          "base_uri": "https://localhost:8080/"
        },
        "id": "h241kCe7nTVb",
        "outputId": "37af892e-5593-42c6-cace-dc77fc7c9de4"
      },
      "source": [
        "print(len(infer_answers), len(pred))"
      ],
      "execution_count": null,
      "outputs": [
        {
          "output_type": "stream",
          "text": [
            "10693 10693\n"
          ],
          "name": "stdout"
        }
      ]
    },
    {
      "cell_type": "code",
      "metadata": {
        "colab": {
          "base_uri": "https://localhost:8080/"
        },
        "id": "pp-CoyPe0lfm",
        "outputId": "82aed5e1-413d-41b5-be54-ba7b07088d44"
      },
      "source": [
        "# detokenize: restore special marks\n",
        "# also find special token (forien language)\n",
        "cnt_special_char = 0\n",
        "foreign_chars = set()\n",
        "for i in range(len(infer_answers)):\n",
        "  infer_answers[i] = infer_answers[i].replace(' \\\\\\'\\\\\\'', ' \\'\\'')   # double quotation\n",
        "  infer_answers[i] = infer_answers[i].replace('\\\\\\'', '\\'')\n",
        "  infer_answers[i] = infer_answers[i].replace(' \\'s', '\\'s')    # 's\n",
        "  infer_answers[i] = infer_answers[i].replace(' ,', ',')        # comma\n",
        "  if '\\\\' in infer_answers[i]:\n",
        "    cnt_special_char += 1\n",
        "    foreign_chars.add(i)\n",
        "    #print(f\"{i}  {infer_answers[i]}      {pred[i]}\")\n",
        "print(cnt_special_char)"
      ],
      "execution_count": 49,
      "outputs": [
        {
          "output_type": "stream",
          "text": [
            "120\n"
          ],
          "name": "stdout"
        }
      ]
    },
    {
      "cell_type": "code",
      "metadata": {
        "colab": {
          "base_uri": "https://localhost:8080/"
        },
        "id": "vyedn8Qaodwv",
        "outputId": "2c5eefef-5a52-465d-c9ed-9a0e98e59c2c"
      },
      "source": [
        "example_foreign = 0\n",
        "for i in range(len(infer_answers)):\n",
        "  if \"\\\\\" in infer_answers[i]:\n",
        "    print(f\"{i}: {infer_answers[i]:20s}    {pred[i]}\")\n",
        "    example_foreign += 1\n",
        "    if example_foreign >= 5:\n",
        "      break"
      ],
      "execution_count": 47,
      "outputs": [
        {
          "output_type": "stream",
          "text": [
            "36: ch\\xc3\\xa2teau d'amboise    the palace of fontainebleau\n",
            "38: ch\\xc3\\xa2teau de chambord    the palace of fontainebleau\n",
            "104: milo\\xc5\\xa1 forman     milos forman\n",
            "260: alexander nor\\xc3\\xa9n    cameron menzies\n",
            "324: the journal des d\\xc3\\xa9bats    petion\n"
          ],
          "name": "stdout"
        }
      ]
    },
    {
      "cell_type": "code",
      "metadata": {
        "colab": {
          "base_uri": "https://localhost:8080/"
        },
        "id": "erUuCFI4eVRc",
        "outputId": "131d92b4-6078-452d-e02f-231778c1c3ee"
      },
      "source": [
        "# Gold-answer not a substring of context\n",
        "ctx_cnt = 0\n",
        "for i in not_in_dpr_idx:\n",
        "  if infer_answers[i] != pred[i]:\n",
        "    #print(f\"{i}: {infer_answers[i]:20s}{pred[i]}\")\n",
        "    ctx_cnt += 1\n",
        "print(ctx_cnt)"
      ],
      "execution_count": 50,
      "outputs": [
        {
          "output_type": "stream",
          "text": [
            "3292\n"
          ],
          "name": "stdout"
        }
      ]
    },
    {
      "cell_type": "code",
      "metadata": {
        "colab": {
          "base_uri": "https://localhost:8080/"
        },
        "id": "xKSaWb5Tn05E",
        "outputId": "fb21739f-8c86-4e26-be04-d38be74ab51b"
      },
      "source": [
        "# further normalize the answers\n",
        "import string\n",
        "import re\n",
        "def normalize_answer(s):\n",
        "    def remove_articles(text):\n",
        "        return re.sub(r'\\b(a|an|the)\\b', ' ', text)\n",
        "    def white_space_fix(text):\n",
        "        return ' '.join(text.split())\n",
        "    def remove_punc(text):\n",
        "        exclude = set(string.punctuation)\n",
        "        return ''.join(ch for ch in text if ch not in exclude)\n",
        "    def lower(text):\n",
        "        return text.lower()\n",
        "    return white_space_fix(remove_articles(remove_punc(lower(s))))\n",
        "\n",
        "print(normalize_answer(infer_answers[36]))"
      ],
      "execution_count": 39,
      "outputs": [
        {
          "output_type": "stream",
          "text": [
            "chxc3xa2teau damboise\n"
          ],
          "name": "stdout"
        }
      ]
    },
    {
      "cell_type": "code",
      "metadata": {
        "id": "F9Dk1yT8roEp"
      },
      "source": [
        "!pip install python-Levenshtein"
      ],
      "execution_count": null,
      "outputs": []
    },
    {
      "cell_type": "code",
      "metadata": {
        "colab": {
          "base_uri": "https://localhost:8080/"
        },
        "id": "UGhtZsWej9p0",
        "outputId": "68807fe6-ba1d-43e3-ae24-31cd7d34684e"
      },
      "source": [
        "from collections import defaultdict\n",
        "from Levenshtein import distance\n",
        "\n",
        "question_len_all = defaultdict(int)\n",
        "question_len_wrong = defaultdict(int)\n",
        "word_freq_all = defaultdict(lambda: 0)\n",
        "word_freq_wrong = defaultdict(lambda: 0)\n",
        "start_freq_all = defaultdict(lambda: 0)\n",
        "start_freq_wrong = defaultdict(lambda: 0)\n",
        "\n",
        "total_edit_distance = 0.0\n",
        "cnt_wrong = 0\n",
        "for i in range(len(infer_answers)):\n",
        "  Q = infer_questions[i]\n",
        "  tokens = Q.split(' ')\n",
        "  start = tokens[0]\n",
        "  start_freq_all[start] += 1\n",
        "  question_len_all[len(tokens)] += 1\n",
        "  for token in tokens:\n",
        "    word_freq_all[token] += 1\n",
        "  # error:\n",
        "  if infer_answers[i] != pred[i]:\n",
        "    # we omit foreign tokens\n",
        "    if i in foreign_chars: continue\n",
        "    dis = distance(infer_answers[i], pred[i])\n",
        "    start_freq_wrong[start] += 1\n",
        "    question_len_wrong[len(tokens)] += 1\n",
        "    total_edit_distance += dis\n",
        "    cnt_wrong += 1\n",
        "    #for a in A:\n",
        "      #word_freq_wrong[a] += 1\n",
        "print(cnt_wrong, total_edit_distance/cnt_wrong)"
      ],
      "execution_count": 55,
      "outputs": [
        {
          "output_type": "stream",
          "text": [
            "7467 11.507298781304407\n"
          ],
          "name": "stdout"
        }
      ]
    },
    {
      "cell_type": "code",
      "metadata": {
        "id": "oi-FGoI8ss31"
      },
      "source": [
        "question_start_dict = dict(sorted(start_freq_all.items(), key=lambda item: item[1], reverse=True))"
      ],
      "execution_count": 64,
      "outputs": []
    },
    {
      "cell_type": "code",
      "metadata": {
        "colab": {
          "base_uri": "https://localhost:8080/"
        },
        "id": "7ARrBjartsFi",
        "outputId": "1f8dc5b9-1945-4b23-eea1-e7326af3d346"
      },
      "source": [
        "q_start_all = list(question_start_dict.items())[:7]\n",
        "print(q_start_all)"
      ],
      "execution_count": 127,
      "outputs": [
        {
          "output_type": "stream",
          "text": [
            "[('who', 4474), ('when', 1877), ('what', 1378), ('where', 889), ('how', 492), ('the', 234), ('which', 186)]\n"
          ],
          "name": "stdout"
        }
      ]
    },
    {
      "cell_type": "code",
      "metadata": {
        "id": "lZDYhWpUtztr"
      },
      "source": [
        "question_start_err_dict = dict(sorted(start_freq_wrong.items(), key=lambda item: item[1], reverse=True))"
      ],
      "execution_count": 68,
      "outputs": []
    },
    {
      "cell_type": "code",
      "metadata": {
        "colab": {
          "base_uri": "https://localhost:8080/"
        },
        "id": "1pdly38At39a",
        "outputId": "e7d3fda8-1e36-471b-d50e-715809d080e7"
      },
      "source": [
        "q_start_err = list(question_start_err_dict.items())[:7]\n",
        "print(q_start_err)"
      ],
      "execution_count": 128,
      "outputs": [
        {
          "output_type": "stream",
          "text": [
            "[('who', 2868), ('when', 1213), ('what', 1106), ('where', 698), ('how', 346), ('the', 184), ('which', 136)]\n"
          ],
          "name": "stdout"
        }
      ]
    },
    {
      "cell_type": "code",
      "metadata": {
        "colab": {
          "base_uri": "https://localhost:8080/"
        },
        "id": "zmB9jiva5vWj",
        "outputId": "33326a49-e591-4759-8ef5-864fca253cec"
      },
      "source": [
        "plt_start = 1 - np.array(list(map(lambda x: float(x[1][1]) / float(x[0][1]), zip(q_start_all, q_start_err))))\n",
        "print(plt_start)\n",
        "x = np.arange(len(plt_start))\n",
        "keys = list(map(lambda x:x[0], q_start_all))\n",
        "print(keys)"
      ],
      "execution_count": 131,
      "outputs": [
        {
          "output_type": "stream",
          "text": [
            "[0.3589629  0.35375599 0.19738752 0.21484814 0.29674797 0.21367521\n",
            " 0.2688172 ]\n",
            "['who', 'when', 'what', 'where', 'how', 'the', 'which']\n"
          ],
          "name": "stdout"
        }
      ]
    },
    {
      "cell_type": "code",
      "metadata": {
        "colab": {
          "base_uri": "https://localhost:8080/",
          "height": 279
        },
        "id": "UIgFN33R81Y2",
        "outputId": "1f33493b-109a-429d-98f8-7de99d731ae0"
      },
      "source": [
        "import numpy as np\n",
        "import matplotlib.pyplot as plt\n",
        "\n",
        "plt.bar(x, plt_start,width=0.3)\n",
        "for a, b in zip(x, plt_start):\n",
        "  plt.text(a, b + 0.0025, f\"{b:.3f}\")\n",
        "plt.xticks(x, keys)\n",
        "plt.xlabel(\"First token of the question\")\n",
        "plt.ylabel(\"Accuracy\")\n",
        "plt.show()"
      ],
      "execution_count": 140,
      "outputs": [
        {
          "output_type": "display_data",
          "data": {
            "image/png": "[encoded data removed]",
            "text/plain": [
              "<Figure size 432x288 with 1 Axes>"
            ]
          },
          "metadata": {
            "tags": [],
            "needs_background": "light"
          }
        }
      ]
    },
    {
      "cell_type": "code",
      "metadata": {
        "id": "w6cR2rTS-j6t"
      },
      "source": [
        "plt.close()"
      ],
      "execution_count": 141,
      "outputs": []
    },
    {
      "cell_type": "code",
      "metadata": {
        "colab": {
          "base_uri": "https://localhost:8080/"
        },
        "id": "PHD0oBvevV-W",
        "outputId": "8f0257ea-f6b0-4b73-9116-0e068798c0d0"
      },
      "source": [
        "print(question_len_all)\n",
        "print(question_len_wrong)\n",
        "len_dict = {}\n",
        "for k,v in question_len_all.items():\n",
        "  len_dict[k] = float(question_len_wrong[k]) / v\n",
        "len_dict = dict(sorted(len_dict.items(), key=lambda item: item[0]))\n",
        "print(len_dict)"
      ],
      "execution_count": 85,
      "outputs": [
        {
          "output_type": "stream",
          "text": [
            "defaultdict(<class 'int'>, {8: 5009, 9: 2600, 10: 1313, 11: 625, 7: 372, 13: 189, 12: 324, 17: 17, 15: 66, 14: 112, 16: 40, 6: 17, 18: 6, 19: 1, 22: 1, 20: 1})\n",
            "defaultdict(<class 'int'>, {8: 3558, 9: 1774, 10: 901, 11: 445, 13: 142, 12: 217, 7: 237, 15: 52, 14: 82, 16: 24, 6: 14, 18: 5, 19: 1, 17: 13, 22: 1, 20: 1, 0: 0, 1: 0, 2: 0, 3: 0, 4: 0, 5: 0})\n",
            "{6: 0.8235294117647058, 7: 0.6370967741935484, 8: 0.7103214214414054, 9: 0.6823076923076923, 10: 0.6862147753236862, 11: 0.712, 12: 0.6697530864197531, 13: 0.7513227513227513, 14: 0.7321428571428571, 15: 0.7878787878787878, 16: 0.6, 17: 0.7647058823529411, 18: 0.8333333333333334, 19: 1.0, 20: 1.0, 22: 1.0}\n"
          ],
          "name": "stdout"
        }
      ]
    },
    {
      "cell_type": "code",
      "metadata": {
        "colab": {
          "base_uri": "https://localhost:8080/"
        },
        "id": "OVTADMfPyroM",
        "outputId": "949cbdfa-caf4-4472-e294-f5232a2853d8"
      },
      "source": [
        "plt_len = np.array(list(range(7,14)))\n",
        "plt_len_all = list(dict(sorted(question_len_all.items(), key=lambda item: item[0])).items())[1:len(plt_len) + 1]\n",
        "plt_len_err = list(dict(sorted(question_len_wrong.items(), key=lambda item: item[0])).items())[7:len(plt_len) + 7]\n",
        "print(plt_len_all)\n",
        "print(plt_len_err)"
      ],
      "execution_count": 101,
      "outputs": [
        {
          "output_type": "stream",
          "text": [
            "[(7, 372), (8, 5009), (9, 2600), (10, 1313), (11, 625), (12, 324), (13, 189)]\n",
            "[(7, 237), (8, 3558), (9, 1774), (10, 901), (11, 445), (12, 217), (13, 142)]\n"
          ],
          "name": "stdout"
        }
      ]
    },
    {
      "cell_type": "code",
      "metadata": {
        "colab": {
          "base_uri": "https://localhost:8080/",
          "height": 295
        },
        "id": "ZNBoeFmM0CSV",
        "outputId": "85a23104-ecbd-41b8-b0f3-c54df10d15f2"
      },
      "source": [
        "plt_len_all = np.array(list(map(lambda x: x[1], plt_len_all)))\n",
        "plt_len_err = np.array(list(map(lambda x: x[1], plt_len_err)))\n",
        "\n",
        "width = 0.35\n",
        "x = np.arange(7)\n",
        "plt.bar(x-0.2, plt_len_all, width)\n",
        "plt.bar(x+0.2, plt_len_err, width)\n",
        "\n",
        "plt.xticks(x, plt_len)\n",
        "plt.xlabel(\"Question length\")\n",
        "plt.ylabel(\"Number of Questions\")\n",
        "plt.legend([\"Distribution for All samples\", \"Distribution for wrong predictions\"])\n",
        "plt.title('Question Length Distribution')\n",
        "plt.show()\n"
      ],
      "execution_count": 106,
      "outputs": [
        {
          "output_type": "display_data",
          "data": {
            "image/png": "[encoded data removed]",
            "text/plain": [
              "<Figure size 432x288 with 1 Axes>"
            ]
          },
          "metadata": {
            "tags": [],
            "needs_background": "light"
          }
        }
      ]
    },
    {
      "cell_type": "code",
      "metadata": {
        "id": "WuB4nXIR7rbP"
      },
      "source": [
        "plt.close()"
      ],
      "execution_count": null,
      "outputs": []
    }
  ]
}